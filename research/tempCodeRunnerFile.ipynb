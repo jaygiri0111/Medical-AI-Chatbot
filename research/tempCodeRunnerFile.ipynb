from langchain.llms import OpenAI

llm = OpenAI(temperature=0.4, max_tokens=500)
